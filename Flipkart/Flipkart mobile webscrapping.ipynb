{
 "cells": [
  {
   "cell_type": "code",
   "execution_count": 83,
   "id": "8e85c1c2",
   "metadata": {},
   "outputs": [],
   "source": [
    "import requests\n",
    "from bs4 import BeautifulSoup\n",
    "import pandas as pd\n",
    "import os"
   ]
  },
  {
   "cell_type": "code",
   "execution_count": 84,
   "id": "8c903093",
   "metadata": {},
   "outputs": [],
   "source": [
    "url = 'https://www.flipkart.com/search?q=Smartphone&page=1'"
   ]
  },
  {
   "cell_type": "code",
   "execution_count": 85,
   "id": "b4dda0ba",
   "metadata": {},
   "outputs": [
    {
     "name": "stdout",
     "output_type": "stream",
     "text": [
      "<Response [200]>\n",
      "Request Successful\n"
     ]
    }
   ],
   "source": [
    "response =  requests.get(url)\n",
    "print(response)\n",
    "if response.status_code == 200:\n",
    "    print(\"Request Successful\")\n",
    "else:\n",
    "    print(\"Request failed\")"
   ]
  },
  {
   "cell_type": "code",
   "execution_count": 86,
   "id": "6ddf4160",
   "metadata": {},
   "outputs": [],
   "source": [
    "#parsing the html content\n",
    "soup = BeautifulSoup(response.text, 'lxml')\n",
    "# print(soup)\n",
    "# pretty_html = soup.prettify()\n",
    "# Print the pretty-formatted HTML\n",
    "# print(pretty_html)\n"
   ]
  },
  {
   "cell_type": "code",
   "execution_count": 116,
   "id": "0dfd49e2",
   "metadata": {},
   "outputs": [],
   "source": [
    "Mobile_names=[]\n",
    "Prices = []\n",
    "Description = []\n",
    "Ratings = []\n",
    "image_link = []\n",
    "\n",
    "for i in range(0,1):\n",
    "    url = \"https://www.flipkart.com/search?q=Smartphone&page=\"+str(i)\n",
    "    response=requests.get(url)\n",
    "    \n",
    "    soup=BeautifulSoup(response.text, \"lxml\")\n",
    "    box=soup.find(\"div\",class_=\"_1YokD2 _3Mn1Gg\")\n",
    "\n",
    "    #Mobile_name\n",
    "    pn = box.find_all(\"div\",class_= \"_4rR01T\")\n",
    "#     print(pn) \n",
    "    for i in pn:\n",
    "        pn = i.text\n",
    "        Mobile_names.append(pn)\n",
    "#     print(Mobile_names)\n",
    "\n",
    "   \n",
    "    #prices\n",
    "    p = box.find_all(\"div\",class_=\"_30jeq3 _1_WHN1\")\n",
    "\n",
    "    for i in p:\n",
    "        name = i.text\n",
    "        Prices.append(name)\n",
    "#     print(Prices)\n",
    "\n",
    "\n",
    "    # Description\n",
    "    desc = box.find_all(\"ul\",class_ =\"_1xgFaf\")\n",
    "\n",
    "    for i in desc:\n",
    "        name = i.text\n",
    "        Description.append(name)\n",
    "#     print(Description)    \n",
    "\n",
    "    # Ratings\n",
    "    ratings = box.find_all(\"div\",class_ =\"_3LWZlK\")\n",
    "\n",
    "    for i in ratings:\n",
    "        name = i.text\n",
    "        Ratings.append(name)\n",
    "#     print(Ratings)\n",
    "\n",
    "\n",
    "\n",
    "    images = box.find_all('img',class_= \"_396cs4\")\n",
    "    for image in images:\n",
    "#         print(image['src'])\n",
    "        links = image['src']\n",
    "        image_link.append(links)\n",
    "#         print(image_link)\n",
    "        \n",
    "#image download code        \n",
    "    if not os.path.exists('D:\\Anaconda folder\\Python\\Project\\WebScrapping\\images'):\n",
    "        os.makedirs('images')\n",
    "\n",
    "    for i, img_tag in enumerate(img_tags):\n",
    "        img_url = img_tag['src']\n",
    "        response = requests.get(img_url)\n",
    "        with open(f'images/image{i}.jpg', 'wb') as f:\n",
    "            f.write(response.content)\n",
    "    "
   ]
  },
  {
   "cell_type": "code",
   "execution_count": 117,
   "id": "574e055f",
   "metadata": {},
   "outputs": [
    {
     "name": "stdout",
     "output_type": "stream",
     "text": [
      "24\n",
      "24\n",
      "24\n",
      "24\n",
      "24\n"
     ]
    }
   ],
   "source": [
    "print(len(Mobile_names))\n",
    "print(len(Prices))\n",
    "print(len(Description))\n",
    "print(len(Ratings))\n",
    "print(len(image_link))"
   ]
  },
  {
   "cell_type": "code",
   "execution_count": 118,
   "id": "443a15e8",
   "metadata": {},
   "outputs": [],
   "source": [
    "df = pd.DataFrame.from_dict({\"Mobile_names\": Mobile_names, \"Prices\": Prices, \"Description\": Description, \"Ratings\": Ratings, \"image_link\": image_link},orient='index')"
   ]
  },
  {
   "cell_type": "code",
   "execution_count": 120,
   "id": "85241a57",
   "metadata": {},
   "outputs": [],
   "source": [
    "df.to_csv(\"D:/Anaconda folder/Python/Project/WebScrapping/flipkart_mobile_phone_scrapping.csv\")"
   ]
  },
  {
   "cell_type": "code",
   "execution_count": null,
   "id": "886a3382",
   "metadata": {},
   "outputs": [],
   "source": []
  }
 ],
 "metadata": {
  "kernelspec": {
   "display_name": "Python 3 (ipykernel)",
   "language": "python",
   "name": "python3"
  },
  "language_info": {
   "codemirror_mode": {
    "name": "ipython",
    "version": 3
   },
   "file_extension": ".py",
   "mimetype": "text/x-python",
   "name": "python",
   "nbconvert_exporter": "python",
   "pygments_lexer": "ipython3",
   "version": "3.8.10"
  }
 },
 "nbformat": 4,
 "nbformat_minor": 5
}
